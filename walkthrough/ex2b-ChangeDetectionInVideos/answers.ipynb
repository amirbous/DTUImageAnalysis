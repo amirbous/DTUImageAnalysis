{
 "cells": [
  {
   "cell_type": "markdown",
   "id": "032ddad3-1053-4369-9f8a-094c7d3a351d",
   "metadata": {},
   "source": [
    "<h4>Exercice 2b: Change detection in videos</h4>\n",
    "<h6>Image Differencing using OpenCV</h6>"
   ]
  },
  {
   "cell_type": "code",
   "execution_count": 2,
   "id": "bd52f75e-55e8-496e-a88d-4257cd088a61",
   "metadata": {},
   "outputs": [],
   "source": [
    "import numpy as np\n",
    "import matplotlib.pyplot as plt"
   ]
  },
  {
   "cell_type": "code",
   "execution_count": 1,
   "id": "566b262e-6928-4452-9d5c-cb41a8484c79",
   "metadata": {},
   "outputs": [
    {
     "name": "stdout",
     "output_type": "stream",
     "text": [
      "Starting image capture\n",
      "Opening connection to camera\n"
     ]
    },
    {
     "name": "stderr",
     "output_type": "stream",
     "text": [
      "[ WARN:0@3.965] global /private/var/folders/sy/f16zz6x50xz3113nwtb9bvq00000gp/T/abs_f6tvh9615u/croot/opencv-suite_1691620375715/work/modules/videoio/src/cap_gstreamer.cpp (862) isPipelinePlaying OpenCV | GStreamer warning: GStreamer: pipeline have not been created\n"
     ]
    },
    {
     "name": "stdout",
     "output_type": "stream",
     "text": [
      "Starting camera loop\n",
      "Can't receive frame\n"
     ]
    },
    {
     "ename": "error",
     "evalue": "OpenCV(4.6.0) /private/var/folders/sy/f16zz6x50xz3113nwtb9bvq00000gp/T/abs_f6tvh9615u/croot/opencv-suite_1691620375715/work/modules/imgproc/src/color.cpp:182: error: (-215:Assertion failed) !_src.empty() in function 'cvtColor'\n",
     "output_type": "error",
     "traceback": [
      "\u001b[0;31m---------------------------------------------------------------------------\u001b[0m",
      "\u001b[0;31merror\u001b[0m                                     Traceback (most recent call last)",
      "Cell \u001b[0;32mIn[1], line 87\u001b[0m\n\u001b[1;32m     83\u001b[0m     cv2\u001b[38;5;241m.\u001b[39mdestroyAllWindows()\n\u001b[1;32m     86\u001b[0m \u001b[38;5;28;01mif\u001b[39;00m \u001b[38;5;18m__name__\u001b[39m \u001b[38;5;241m==\u001b[39m \u001b[38;5;124m'\u001b[39m\u001b[38;5;124m__main__\u001b[39m\u001b[38;5;124m'\u001b[39m:\n\u001b[0;32m---> 87\u001b[0m     \u001b[43mcapture_from_camera_and_show_images\u001b[49m\u001b[43m(\u001b[49m\u001b[43m)\u001b[49m\n",
      "Cell \u001b[0;32mIn[1], line 40\u001b[0m, in \u001b[0;36mcapture_from_camera_and_show_images\u001b[0;34m()\u001b[0m\n\u001b[1;32m     37\u001b[0m     exit()\n\u001b[1;32m     39\u001b[0m \u001b[38;5;66;03m# Transform image to gray scale and then to float, so we can do some processing\u001b[39;00m\n\u001b[0;32m---> 40\u001b[0m frame_gray \u001b[38;5;241m=\u001b[39m \u001b[43mcv2\u001b[49m\u001b[38;5;241;43m.\u001b[39;49m\u001b[43mcvtColor\u001b[49m\u001b[43m(\u001b[49m\u001b[43mframe\u001b[49m\u001b[43m,\u001b[49m\u001b[43m \u001b[49m\u001b[43mcv2\u001b[49m\u001b[38;5;241;43m.\u001b[39;49m\u001b[43mCOLOR_BGR2GRAY\u001b[49m\u001b[43m)\u001b[49m\n\u001b[1;32m     41\u001b[0m frame_gray \u001b[38;5;241m=\u001b[39m img_as_float(frame_gray)\n\u001b[1;32m     43\u001b[0m \u001b[38;5;66;03m# To keep track of frames per second\u001b[39;00m\n",
      "\u001b[0;31merror\u001b[0m: OpenCV(4.6.0) /private/var/folders/sy/f16zz6x50xz3113nwtb9bvq00000gp/T/abs_f6tvh9615u/croot/opencv-suite_1691620375715/work/modules/imgproc/src/color.cpp:182: error: (-215:Assertion failed) !_src.empty() in function 'cvtColor'\n"
     ]
    }
   ],
   "source": [
    "import time\n",
    "import cv2\n",
    "import numpy as np\n",
    "from skimage.util import img_as_float\n",
    "from skimage.util import img_as_ubyte\n",
    "\n",
    "\n",
    "def show_in_moved_window(win_name, img, x, y):\n",
    "    \"\"\"\n",
    "    Show an image in a window, where the position of the window can be given\n",
    "    \"\"\"\n",
    "    cv2.namedWindow(win_name)\n",
    "    cv2.moveWindow(win_name, x, y)\n",
    "    cv2.imshow(win_name,img)\n",
    "\n",
    "\n",
    "def capture_from_camera_and_show_images():\n",
    "    print(\"Starting image capture\")\n",
    "\n",
    "    print(\"Opening connection to camera\")\n",
    "    url = 0\n",
    "    use_droid_cam = False\n",
    "    if use_droid_cam:\n",
    "        url = \"http://192.168.1.120:4747/video\"\n",
    "    cap = cv2.VideoCapture(url)\n",
    "    # cap = cv2.VideoCapture(0)\n",
    "    if not cap.isOpened():\n",
    "        print(\"Cannot open camera\")\n",
    "        exit()\n",
    "\n",
    "    print(\"Starting camera loop\")\n",
    "    # Get first image\n",
    "    ret, frame = cap.read()\n",
    "    # if frame is read correctly ret is True\n",
    "    if not ret:\n",
    "        print(\"Can't receive frame\")\n",
    "        exit()\n",
    "\n",
    "    # Transform image to gray scale and then to float, so we can do some processing\n",
    "    frame_gray = cv2.cvtColor(frame, cv2.COLOR_BGR2GRAY)\n",
    "    frame_gray = img_as_float(frame_gray)\n",
    "\n",
    "    # To keep track of frames per second\n",
    "    start_time = time.time()\n",
    "    n_frames = 0\n",
    "    stop = False\n",
    "    while not stop:\n",
    "        ret, new_frame = cap.read()\n",
    "        if not ret:\n",
    "            print(\"Can't receive frame. Exiting ...\")\n",
    "            break\n",
    "\n",
    "        # Transform image to gray scale and then to float, so we can do some processing\n",
    "        new_frame_gray = cv2.cvtColor(new_frame, cv2.COLOR_BGR2GRAY)\n",
    "        new_frame_gray = img_as_float(new_frame_gray)\n",
    "\n",
    "        # Compute difference image\n",
    "        dif_img = np.abs(new_frame_gray - frame_gray)\n",
    "\n",
    "        # Keep track of frames-per-second (FPS)\n",
    "        n_frames = n_frames + 1\n",
    "        elapsed_time = time.time() - start_time\n",
    "        fps = int(n_frames / elapsed_time)\n",
    "\n",
    "        # Put the FPS on the new_frame\n",
    "        str_out = f\"fps: {fps}\"\n",
    "        font = cv2.FONT_HERSHEY_COMPLEX\n",
    "        cv2.putText(new_frame, str_out, (100, 100), font, 1, 255, 1)\n",
    "\n",
    "        # Display the resulting frame\n",
    "        show_in_moved_window('Input', new_frame, 0, 10)\n",
    "        show_in_moved_window('Input gray', new_frame_gray, 600, 10)\n",
    "        show_in_moved_window('Difference image', dif_img, 1200, 10)\n",
    "\n",
    "        # Old frame is updated\n",
    "        frame_gray = new_frame_gray\n",
    "\n",
    "        if cv2.waitKey(1) == ord('q'):\n",
    "            stop = True\n",
    "\n",
    "    print(\"Stopping image loop\")\n",
    "    cap.release()\n",
    "    cv2.destroyAllWindows()\n",
    "\n",
    "\n",
    "if __name__ == '__main__':\n",
    "    capture_from_camera_and_show_images()\n"
   ]
  },
  {
   "cell_type": "code",
   "execution_count": null,
   "id": "38cad879-c51a-48f3-8383-8bf7d83adc86",
   "metadata": {},
   "outputs": [],
   "source": []
  }
 ],
 "metadata": {
  "kernelspec": {
   "display_name": "Python 3 (ipykernel)",
   "language": "python",
   "name": "python3"
  },
  "language_info": {
   "codemirror_mode": {
    "name": "ipython",
    "version": 3
   },
   "file_extension": ".py",
   "mimetype": "text/x-python",
   "name": "python",
   "nbconvert_exporter": "python",
   "pygments_lexer": "ipython3",
   "version": "3.9.18"
  }
 },
 "nbformat": 4,
 "nbformat_minor": 5
}
