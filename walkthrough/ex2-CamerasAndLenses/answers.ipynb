{
 "cells": [
  {
   "cell_type": "code",
   "execution_count": 1,
   "id": "0236fd14-47e9-4524-87eb-b5e6de7bff41",
   "metadata": {},
   "outputs": [],
   "source": [
    "import math\n",
    "#helper method to convert from radians to degrees\n",
    "angle_degrees = lambda angle_radians : 180.0 / math.pi * angle_radians"
   ]
  },
  {
   "cell_type": "markdown",
   "id": "fe9fde15-e683-4193-9878-20f2b0252aa5",
   "metadata": {},
   "source": [
    "<h4>writing a method that gets angle beta from the figure</h4>\n",
    "<center><img src=\"figures/ArcTangens.png\" alt=\"Alternative text\" width=\"150\" height=\"150\" /></center>\n",
    "<p>using atan2()</p>"
   ]
  },
  {
   "cell_type": "code",
   "execution_count": 2,
   "id": "646a43a9-17b2-4fc2-9b9e-fce1ef75caca",
   "metadata": {},
   "outputs": [
    {
     "name": "stdout",
     "output_type": "stream",
     "text": [
      "16.69924423399362\n"
     ]
    }
   ],
   "source": [
    "#tan(tetha) = b / a\n",
    "#theta = atan2(b / a)\n",
    "a = 10\n",
    "b = 3\n",
    "theta = math.atan2(3, 10)\n",
    "print(angle_degrees(theta))"
   ]
  },
  {
   "cell_type": "markdown",
   "id": "11100cae-3455-4cc1-a582-637670466cf3",
   "metadata": {},
   "source": [
    "<h4>distance from the lens</h4>\n",
    "$$\\frac{1}{g} + \\frac{1}{b} = \\frac{1}{f},$$ $$b = \\frac{1}{\\frac{1}{f} - \\frac{1}{g}}$$"
   ]
  },
  {
   "cell_type": "code",
   "execution_count": 10,
   "id": "5106eb59-08c1-4a80-9b9e-f83f37ee887e",
   "metadata": {},
   "outputs": [],
   "source": [
    "def camera_b_distance(f, g):\n",
    "    \"\"\"\n",
    "    camera_b_distance returns the distance (b) where the CCD should be placed\n",
    "    when the object distance (g) and the focal length (f) are given\n",
    "    :param f: Focal length\n",
    "    :param g: Object distance\n",
    "    :return: b, the distance where the CCD should be placed\n",
    "    \"\"\"\n",
    "    return 1 / (1 / f - 1 / g)"
   ]
  },
  {
   "cell_type": "code",
   "execution_count": 22,
   "id": "93b226cd-0b1d-4042-9c5d-e7a10bbab373",
   "metadata": {},
   "outputs": [
    {
     "name": "stdout",
     "output_type": "stream",
     "text": [
      "b = 17.647058823529413 M\n",
      "b = 15.228426395939087 M\n",
      "b = 15.045135406218657 M\n",
      "b = 15.015015015015017 M\n"
     ]
    }
   ],
   "source": [
    "#example for f = 15, g = 0.1, 1, 5 and 15\n",
    "f = 15\n",
    "gs  = [0.1, 1, 5, 15]\n",
    "for g in gs:\n",
    "    g *= 1000\n",
    "    if (g == f):\n",
    "        print(f\"in case f = {f}, g = {g}, f can not be equal to g\")\n",
    "        continue\n",
    "    print(f\"b = {camera_b_distance(f, g)} M\")"
   ]
  },
  {
   "cell_type": "markdown",
   "id": "be5a7078-ebdd-4868-aa72-d787fddcddae",
   "metadata": {},
   "source": [
    "<h4>Camera exercise</h4>"
   ]
  },
  {
   "cell_type": "markdown",
   "id": "f28a3bd0-003e-4024-b971-e69cb16ca487",
   "metadata": {},
   "source": [
    "<p>solve and study a complete scenario, to find optimal measurements for different distances.</p>"
   ]
  },
  {
   "cell_type": "code",
   "execution_count": null,
   "id": "f7660fd0-d6f6-4f95-917e-ea7dbcb724c1",
   "metadata": {},
   "outputs": [],
   "source": []
  }
 ],
 "metadata": {
  "kernelspec": {
   "display_name": "Python 3 (ipykernel)",
   "language": "python",
   "name": "python3"
  },
  "language_info": {
   "codemirror_mode": {
    "name": "ipython",
    "version": 3
   },
   "file_extension": ".py",
   "mimetype": "text/x-python",
   "name": "python",
   "nbconvert_exporter": "python",
   "pygments_lexer": "ipython3",
   "version": "3.9.18"
  }
 },
 "nbformat": 4,
 "nbformat_minor": 5
}
